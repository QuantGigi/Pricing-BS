{
 "cells": [
  {
   "cell_type": "code",
   "execution_count": 11,
   "id": "80d348ca",
   "metadata": {},
   "outputs": [],
   "source": [
    "import numpy as np\n",
    "from scipy.stats import norm"
   ]
  },
  {
   "cell_type": "code",
   "execution_count": 10,
   "id": "571a5319",
   "metadata": {},
   "outputs": [],
   "source": [
    "class VanillaOption:\n",
    "    def __init__(self, K, T, option_type):\n",
    "        self.K = K\n",
    "        self.T = T\n",
    "        self.option_type = option_type\n",
    "        if self.option_type not in ['Call', 'Put']:\n",
    "            raise ValueError(\"option_type must be 'Call' or 'Put'\")\n",
    "\n",
    "    def payoff(self, spot):\n",
    "        if self.option_type == 'Call':\n",
    "            return max(spot - self.K, 0)\n",
    "        else:\n",
    "            return max(self.K - spot, 0)"
   ]
  },
  {
   "cell_type": "code",
   "execution_count": null,
   "id": "6ed8822e",
   "metadata": {},
   "outputs": [],
   "source": [
    "class BSModel:\n",
    "    def __init__(self, S, sigma, r, q):\n",
    "        self.S = S\n",
    "        self.sigma = sigma\n",
    "        self.r = r\n",
    "        self.q = q"
   ]
  },
  {
   "cell_type": "code",
   "execution_count": 13,
   "id": "2b781eb7",
   "metadata": {},
   "outputs": [],
   "source": [
    "class Pricer:\n",
    "    def __init__(self, model):\n",
    "        self.model = model\n",
    "\n",
    "    def price(self, option):\n",
    "        S = self.model.S\n",
    "        sigma = self.model.sigma\n",
    "        r = self.model.r\n",
    "        q = self.model.q\n",
    "\n",
    "        K = option.K\n",
    "        T = option.T\n",
    "        option_type = option.option_type\n",
    "\n",
    "        d1 = (np.log(S/K) + (r + 0.5 * sigma ** 2) * T) / (sigma * np.sqrt(T))\n",
    "        d2 = d1 - sigma * np.sqrt(T)\n",
    "\n",
    "        if option_type == \"Call\":\n",
    "            price = S * np.exp(-q * T) * norm.cdf(d1) - K * np.exp(-r * T) * norm.cdf(d2)\n",
    "        else:\n",
    "            price = K * np.exp(-r * T) * norm.cdf(-d2) - S * np.exp(-q * T) * norm.cdf(-d1)\n",
    "\n",
    "        return price"
   ]
  },
  {
   "cell_type": "code",
   "execution_count": 20,
   "id": "6a58caae",
   "metadata": {},
   "outputs": [
    {
     "name": "stdout",
     "output_type": "stream",
     "text": [
      "Put price : 26.1272\n"
     ]
    }
   ],
   "source": [
    "bs = BSModel(S=100, sigma = 0.2, r = 0.05, q=0.01)\n",
    "\n",
    "option = VanillaOption(K=130, T=1, option_type='Put')\n",
    "\n",
    "pricer = Pricer(model=bs)\n",
    "\n",
    "print(f\"{option.option_type} price : {pricer.price(option):.4f}\")"
   ]
  }
 ],
 "metadata": {
  "kernelspec": {
   "display_name": "Python 3",
   "language": "python",
   "name": "python3"
  },
  "language_info": {
   "codemirror_mode": {
    "name": "ipython",
    "version": 3
   },
   "file_extension": ".py",
   "mimetype": "text/x-python",
   "name": "python",
   "nbconvert_exporter": "python",
   "pygments_lexer": "ipython3",
   "version": "3.12.2"
  }
 },
 "nbformat": 4,
 "nbformat_minor": 5
}
